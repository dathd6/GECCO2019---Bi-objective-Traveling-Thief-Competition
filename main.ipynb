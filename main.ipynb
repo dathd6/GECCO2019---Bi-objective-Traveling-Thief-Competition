{
 "cells": [
  {
   "cell_type": "markdown",
   "metadata": {},
   "source": [
    "## Import packages and libraries"
   ]
  },
  {
   "cell_type": "code",
   "execution_count": 4,
   "metadata": {},
   "outputs": [
    {
     "ename": "AttributeError",
     "evalue": "module 'matplotlib' has no attribute 'get_data_path'",
     "output_type": "error",
     "traceback": [
      "\u001B[0;31m---------------------------------------------------------------------------\u001B[0m",
      "\u001B[0;31mAttributeError\u001B[0m                            Traceback (most recent call last)",
      "\u001B[1;32m/Users/dathd6/Developments/GECCO2019---Bi-objective-Traveling-Thief-Competition/main.ipynb Cell 2\u001B[0m line \u001B[0;36m1\n\u001B[0;32m----> <a href='vscode-notebook-cell:/Users/dathd6/Developments/GECCO2019---Bi-objective-Traveling-Thief-Competition/main.ipynb#W1sZmlsZQ%3D%3D?line=0'>1</a>\u001B[0m \u001B[39mfrom\u001B[39;00m \u001B[39mevolutionary_algorithm\u001B[39;00m \u001B[39mimport\u001B[39;00m MOEA\n",
      "File \u001B[0;32m~/Developments/GECCO2019---Bi-objective-Traveling-Thief-Competition/evolutionary_algorithm.py:6\u001B[0m\n\u001B[1;32m      4\u001B[0m \u001B[39mfrom\u001B[39;00m \u001B[39mconstants\u001B[39;00m \u001B[39mimport\u001B[39;00m TEST_FOLDER\n\u001B[1;32m      5\u001B[0m \u001B[39mfrom\u001B[39;00m \u001B[39mtravelling_theif_problem\u001B[39;00m \u001B[39mimport\u001B[39;00m TTP\n\u001B[0;32m----> 6\u001B[0m \u001B[39mimport\u001B[39;00m \u001B[39mmatplotlib\u001B[39;00m\u001B[39m.\u001B[39;00m\u001B[39mpyplot\u001B[39;00m \u001B[39mas\u001B[39;00m \u001B[39mplt\u001B[39;00m\n\u001B[1;32m      8\u001B[0m LIMIT_SOLUTION \u001B[39m=\u001B[39m {\n\u001B[1;32m      9\u001B[0m     \u001B[39m'\u001B[39m\u001B[39ma280_n279\u001B[39m\u001B[39m'\u001B[39m: \u001B[39m100\u001B[39m,\n\u001B[1;32m     10\u001B[0m     \u001B[39m'\u001B[39m\u001B[39ma280_n1395\u001B[39m\u001B[39m'\u001B[39m: \u001B[39m100\u001B[39m,\n\u001B[0;32m   (...)\u001B[0m\n\u001B[1;32m     17\u001B[0m     \u001B[39m'\u001B[39m\u001B[39mpla33810_n338090\u001B[39m\u001B[39m'\u001B[39m: \u001B[39m20\u001B[39m\n\u001B[1;32m     18\u001B[0m }\n\u001B[1;32m     20\u001B[0m \u001B[39mclass\u001B[39;00m \u001B[39mMOEA\u001B[39;00m:\n",
      "File \u001B[0;32m~/Developments/GECCO2019---Bi-objective-Traveling-Thief-Competition/.venv/lib/python3.11/site-packages/matplotlib/__init__.py:964\u001B[0m\n\u001B[1;32m    957\u001B[0m     \u001B[39mreturn\u001B[39;00m config\n\u001B[1;32m    960\u001B[0m \u001B[39m# When constructing the global instances, we need to perform certain updates\u001B[39;00m\n\u001B[1;32m    961\u001B[0m \u001B[39m# by explicitly calling the superclass (dict.update, dict.items) to avoid\u001B[39;00m\n\u001B[1;32m    962\u001B[0m \u001B[39m# triggering resolution of _auto_backend_sentinel.\u001B[39;00m\n\u001B[1;32m    963\u001B[0m rcParamsDefault \u001B[39m=\u001B[39m _rc_params_in_file(\n\u001B[0;32m--> 964\u001B[0m     cbook\u001B[39m.\u001B[39;49m_get_data_path(\u001B[39m\"\u001B[39;49m\u001B[39mmatplotlibrc\u001B[39;49m\u001B[39m\"\u001B[39;49m),\n\u001B[1;32m    965\u001B[0m     \u001B[39m# Strip leading comment.\u001B[39;00m\n\u001B[1;32m    966\u001B[0m     transform\u001B[39m=\u001B[39m\u001B[39mlambda\u001B[39;00m line: line[\u001B[39m1\u001B[39m:] \u001B[39mif\u001B[39;00m line\u001B[39m.\u001B[39mstartswith(\u001B[39m\"\u001B[39m\u001B[39m#\u001B[39m\u001B[39m\"\u001B[39m) \u001B[39melse\u001B[39;00m line,\n\u001B[1;32m    967\u001B[0m     fail_on_error\u001B[39m=\u001B[39m\u001B[39mTrue\u001B[39;00m)\n\u001B[1;32m    968\u001B[0m \u001B[39mdict\u001B[39m\u001B[39m.\u001B[39mupdate(rcParamsDefault, rcsetup\u001B[39m.\u001B[39m_hardcoded_defaults)\n\u001B[1;32m    969\u001B[0m \u001B[39m# Normally, the default matplotlibrc file contains *no* entry for backend (the\u001B[39;00m\n\u001B[1;32m    970\u001B[0m \u001B[39m# corresponding line starts with ##, not #; we fill on _auto_backend_sentinel\u001B[39;00m\n\u001B[1;32m    971\u001B[0m \u001B[39m# in that case.  However, packagers can set a different default backend\u001B[39;00m\n\u001B[1;32m    972\u001B[0m \u001B[39m# (resulting in a normal `#backend: foo` line) in which case we should *not*\u001B[39;00m\n\u001B[1;32m    973\u001B[0m \u001B[39m# fill in _auto_backend_sentinel.\u001B[39;00m\n",
      "File \u001B[0;32m~/Developments/GECCO2019---Bi-objective-Traveling-Thief-Competition/.venv/lib/python3.11/site-packages/matplotlib/cbook.py:545\u001B[0m, in \u001B[0;36m_get_data_path\u001B[0;34m(*args)\u001B[0m\n\u001B[1;32m    539\u001B[0m \u001B[39mdef\u001B[39;00m \u001B[39m_get_data_path\u001B[39m(\u001B[39m*\u001B[39margs):\n\u001B[1;32m    540\u001B[0m \u001B[39m    \u001B[39m\u001B[39m\"\"\"\u001B[39;00m\n\u001B[1;32m    541\u001B[0m \u001B[39m    Return the `pathlib.Path` to a resource file provided by Matplotlib.\u001B[39;00m\n\u001B[1;32m    542\u001B[0m \n\u001B[1;32m    543\u001B[0m \u001B[39m    ``*args`` specify a path relative to the base data path.\u001B[39;00m\n\u001B[1;32m    544\u001B[0m \u001B[39m    \"\"\"\u001B[39;00m\n\u001B[0;32m--> 545\u001B[0m     \u001B[39mreturn\u001B[39;00m Path(matplotlib\u001B[39m.\u001B[39;49mget_data_path(), \u001B[39m*\u001B[39margs)\n",
      "\u001B[0;31mAttributeError\u001B[0m: module 'matplotlib' has no attribute 'get_data_path'"
     ]
    }
   ],
   "source": [
    "from evolutionary_algorithm import MOEA"
   ]
  },
  {
   "cell_type": "markdown",
   "metadata": {},
   "source": [
    "# Main function"
   ]
  },
  {
   "cell_type": "code",
   "execution_count": 1,
   "metadata": {
    "ExecuteTime": {
     "end_time": "2023-12-08T15:05:06.241582800Z",
     "start_time": "2023-12-08T15:05:06.003167200Z"
    }
   },
   "outputs": [
    {
     "ename": "NameError",
     "evalue": "name 'MOEA' is not defined",
     "output_type": "error",
     "traceback": [
      "\u001B[1;31m---------------------------------------------------------------------------\u001B[0m",
      "\u001B[1;31mNameError\u001B[0m                                 Traceback (most recent call last)",
      "Cell \u001B[1;32mIn[1], line 1\u001B[0m\n\u001B[1;32m----> 1\u001B[0m moea \u001B[38;5;241m=\u001B[39m \u001B[43mMOEA\u001B[49m(test_name\u001B[38;5;241m=\u001B[39m\u001B[38;5;124m'\u001B[39m\u001B[38;5;124ma280-n279\u001B[39m\u001B[38;5;124m'\u001B[39m)\n\u001B[0;32m      2\u001B[0m moea\u001B[38;5;241m.\u001B[39mgenerate_initial_population(size_p\u001B[38;5;241m=\u001B[39m\u001B[38;5;241m5\u001B[39m)\n\u001B[0;32m      3\u001B[0m moea\u001B[38;5;241m.\u001B[39moptimize(generations\u001B[38;5;241m=\u001B[39m\u001B[38;5;241m3\u001B[39m, tournament_size\u001B[38;5;241m=\u001B[39m\u001B[38;5;241m5\u001B[39m, crossover\u001B[38;5;241m=\u001B[39m\u001B[38;5;124m'\u001B[39m\u001B[38;5;124mOX\u001B[39m\u001B[38;5;124m'\u001B[39m) \u001B[38;5;66;03m# Crossover = ['OX', 'PMX']\u001B[39;00m\n",
      "\u001B[1;31mNameError\u001B[0m: name 'MOEA' is not defined"
     ]
    }
   ],
   "source": [
    "moea = MOEA(test_name='a280-n279')\n",
    "moea.generate_initial_population(size_p=5)\n",
    "moea.optimize(generations=3, tournament_size=5, crossover='OX') # Crossover = ['OX', 'PMX']\n",
    "moea.fronts"
   ]
  },
  {
   "cell_type": "code",
   "execution_count": null,
   "metadata": {},
   "outputs": [],
   "source": []
  },
  {
   "cell_type": "code",
   "execution_count": null,
   "metadata": {},
   "outputs": [],
   "source": [
    "moea.fronts"
   ]
  },
  {
   "cell_type": "code",
   "execution_count": null,
   "metadata": {},
   "outputs": [],
   "source": [
    "moea.visualize()"
   ]
  },
  {
   "cell_type": "code",
   "execution_count": null,
   "metadata": {},
   "outputs": [],
   "source": []
  },
  {
   "cell_type": "code",
   "execution_count": null,
   "metadata": {},
   "outputs": [],
   "source": [
    "moea.export_result()"
   ]
  }
 ],
 "metadata": {
  "kernelspec": {
   "display_name": "Python 3",
   "language": "python",
   "name": "python3"
  },
  "language_info": {
   "codemirror_mode": {
    "name": "ipython",
    "version": 3
   },
   "file_extension": ".py",
   "mimetype": "text/x-python",
   "name": "python",
   "nbconvert_exporter": "python",
   "pygments_lexer": "ipython3",
   "version": "3.11.5"
  }
 },
 "nbformat": 4,
 "nbformat_minor": 2
}
