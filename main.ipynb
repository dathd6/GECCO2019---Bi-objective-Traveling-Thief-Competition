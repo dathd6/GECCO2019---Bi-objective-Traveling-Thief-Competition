{
 "cells": [
  {
   "cell_type": "markdown",
   "metadata": {},
   "source": [
    "## Import packages and libraries"
   ]
  },
  {
   "cell_type": "code",
   "execution_count": 1,
   "metadata": {},
   "outputs": [],
   "source": [
    "from evolutionary_algorithm import MOEA"
   ]
  },
  {
   "cell_type": "markdown",
   "metadata": {},
   "source": [
    "# Main function"
   ]
  },
  {
   "cell_type": "code",
   "execution_count": 2,
   "metadata": {},
   "outputs": [],
   "source": [
    "def main():\n",
    "    moea = MOEA()\n",
    "    print('Item in which city', moea.item_location)\n",
    "    print('Profit list', moea.profit_list)\n",
    "    print('Weight list', moea.weight_list)\n",
    "    print('Max speed', moea.max_speed)\n",
    "    print('Min speed', moea.min_speed)\n",
    "    print('Distance matrix', moea.distance_matrix)\n",
    "    print('Knapsack Capacity', moea.knapsack_capacity)\n",
    "\n",
    "    population_size = 5\n",
    "    moea.generate_initial_population(size_p=population_size)\n",
    "    for objective in moea.population:\n",
    "        print('Route', objective.route)\n",
    "        print('Item stolen', objective.stolen_items)"
   ]
  },
  {
   "cell_type": "code",
   "execution_count": 3,
   "metadata": {},
   "outputs": [
    {
     "name": "stdout",
     "output_type": "stream",
     "text": [
      "Item in which city [2, 3, 4]\n",
      "Profit list [34, 40, 25]\n",
      "Weight list [30, 40, 21]\n",
      "Max speed 1.0\n",
      "Min speed 0.1\n",
      "Distance matrix [[0.         4.         8.54400375 3.        ]\n",
      " [4.         0.         5.         5.        ]\n",
      " [8.54400375 5.         0.         8.        ]\n",
      " [3.         5.         8.         0.        ]]\n",
      "Knapsack Capacity 80\n",
      "Route [1, 0, 2, 3]\n",
      "Item stolen [1 1 0 0 1 0 1 1 0 1]\n",
      "Route [3, 1, 2, 0]\n",
      "Item stolen [0 1 1 1 1 0 0 1 1 1]\n",
      "Route [3, 1, 0, 2]\n",
      "Item stolen [0 0 0 1 1 1 0 1 0 1]\n",
      "Route [0, 2, 3, 1]\n",
      "Item stolen [1 1 0 0 1 0 0 1 0 0]\n",
      "Route [0, 3, 1, 2]\n",
      "Item stolen [1 1 0 1 1 1 0 1 1 1]\n"
     ]
    }
   ],
   "source": [
    "main()"
   ]
  }
 ],
 "metadata": {
  "kernelspec": {
   "display_name": "Python 3",
   "language": "python",
   "name": "python3"
  },
  "language_info": {
   "codemirror_mode": {
    "name": "ipython",
    "version": 3
   },
   "file_extension": ".py",
   "mimetype": "text/x-python",
   "name": "python",
   "nbconvert_exporter": "python",
   "pygments_lexer": "ipython3",
   "version": "3.11.5"
  }
 },
 "nbformat": 4,
 "nbformat_minor": 2
}
