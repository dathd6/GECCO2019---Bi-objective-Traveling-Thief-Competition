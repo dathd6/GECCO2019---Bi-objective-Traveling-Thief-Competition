{
 "cells": [
  {
   "cell_type": "markdown",
   "metadata": {},
   "source": [
    "# GECCO2019 - Bi-objective Traveling Thief Problem "
   ]
  },
  {
   "cell_type": "markdown",
   "metadata": {},
   "source": [
    "This worksheet contains the evaluation for the competition at **GECCO2019**. \n",
    "After having received all submissions, the evaluation will be done as follows:\n",
    "\n",
    "After having received all submissions, the evaluation will be done as follows:\n",
    "\n",
    "For each of the nine test problems\n",
    "\n",
    "a) We will merge the solution sets of all submissions and extract the non-dominated set.\n",
    "\n",
    "b) The minimum in time and the maximum in profit will be used to determine the reference point.\n",
    "\n",
    "c) With respect to this reference point the quality of each submission will be measured using the hypervolume indicator.\n",
    "\n",
    "d) We will sort the submissions according to the achieved hypervolume in descending order and give points as follows: 1st place -> 3 points, 2nd place -> 2 points, 3rd place -> 1 point.\n",
    "\n",
    "\n",
    "By adding up the points for each submission we will create the overall ranking. Please note, that depending on the number of submissions the evaluation might need to be reconsidered.\n",
    "\n",
    "The validation has already been done using the Java code. Which means that each submission has the correct number of solutions (less than the maximum specfied at the competition homepage).\n"
   ]
  },
  {
   "cell_type": "markdown",
   "metadata": {},
   "source": [
    "## Imports necessary for the evaluation"
   ]
  },
  {
   "cell_type": "code",
   "execution_count": 1,
   "metadata": {},
   "outputs": [],
   "source": [
    "from non_dominated_sorting import fast_non_dominated_sort\n",
    "import os.path\n",
    "import numpy as np\n",
    "import matplotlib.pyplot as plt\n",
    "from hv import Hypervolume\n",
    "from normalization import normalize\n",
    "import pandas as pd"
   ]
  },
  {
   "cell_type": "markdown",
   "metadata": {},
   "source": [
    "## Participants and Problems"
   ]
  },
  {
   "cell_type": "code",
   "execution_count": 2,
   "metadata": {},
   "outputs": [],
   "source": [
    "# the result folder as a path\n",
    "folder = os.path.join(os.path.dirname(os.getcwd()), \"submissions\")\n",
    "\n",
    "\n",
    "# all submissions received\n",
    "participants = [\n",
    "    \"TeamU\",\n",
    "    \"ALLAOUI\",\"jomar\", \"shisunzhang\",  \"faria\", \"HPI\",\n",
    "    \"NTGA\", \"SSteam\", \"SamirO-ETF-ba\", \"FRA\", \"sinc\", \"JG\",\n",
    "    # \"ValAurTeam\", \"MicroGA\" ## unfortunatly those submissions were invalid  \n",
    "]\n",
    "\n",
    "\n",
    "# all the problems to be solved\n",
    "problems = [\"a280_n279\", \"a280_n1395\", \"a280_n2790\",\n",
    "            \"fnl4461_n4460\", \"fnl4461_n22300\", \"fnl4461_n44600\", \n",
    "            \"pla33810_n33809\", \"pla33810_n169045\", \"pla33810_n338090\"\n",
    "]\n"
   ]
  },
  {
   "cell_type": "markdown",
   "metadata": {},
   "source": [
    "## Load data\n",
    "\n",
    "Load all data from the submission directory and convert it to a minimization problem.\n",
    "The data dictionary contains all submissions of a participant. The set of non-dominated points\n",
    "is converted to a minimization problem by multiplying the profit times -1."
   ]
  },
  {
   "cell_type": "code",
   "execution_count": 3,
   "metadata": {
    "scrolled": false
   },
   "outputs": [
    {
     "name": "stdout",
     "output_type": "stream",
     "text": [
      "/Users/dathd6/Developments/NIC/GECCO2019---Bi-objective-Traveling-Thief-Competition/submissions/TeamUALLAOUI/TeamUALLAOUI_a280-n279.f\n",
      "/Users/dathd6/Developments/NIC/GECCO2019---Bi-objective-Traveling-Thief-Competition/submissions/TeamUALLAOUI/TeamUALLAOUI_a280-n1395.f\n",
      "/Users/dathd6/Developments/NIC/GECCO2019---Bi-objective-Traveling-Thief-Competition/submissions/TeamUALLAOUI/TeamUALLAOUI_a280-n2790.f\n",
      "/Users/dathd6/Developments/NIC/GECCO2019---Bi-objective-Traveling-Thief-Competition/submissions/TeamUALLAOUI/TeamUALLAOUI_fnl4461-n4460.f\n",
      "/Users/dathd6/Developments/NIC/GECCO2019---Bi-objective-Traveling-Thief-Competition/submissions/TeamUALLAOUI/TeamUALLAOUI_fnl4461-n22300.f\n",
      "/Users/dathd6/Developments/NIC/GECCO2019---Bi-objective-Traveling-Thief-Competition/submissions/TeamUALLAOUI/TeamUALLAOUI_fnl4461-n44600.f\n",
      "/Users/dathd6/Developments/NIC/GECCO2019---Bi-objective-Traveling-Thief-Competition/submissions/TeamUALLAOUI/TeamUALLAOUI_pla33810-n33809.f\n",
      "/Users/dathd6/Developments/NIC/GECCO2019---Bi-objective-Traveling-Thief-Competition/submissions/TeamUALLAOUI/TeamUALLAOUI_pla33810-n169045.f\n",
      "/Users/dathd6/Developments/NIC/GECCO2019---Bi-objective-Traveling-Thief-Competition/submissions/TeamUALLAOUI/TeamUALLAOUI_pla33810-n338090.f\n"
     ]
    }
   ],
   "source": [
    "\n",
    "data = {}\n",
    "\n",
    "for problem in problems:\n",
    "    _entry = {}\n",
    "    for participant in participants:\n",
    "        \n",
    "        # check for the corresponding file\n",
    "        fname = \"%s_%s.f\" % (participant, problem)   \n",
    "        path_to_file = os.path.join(folder,participant, fname)\n",
    "        \n",
    "        # in case the wrong delimiter was used\n",
    "        if not os.path.isfile(path_to_file):\n",
    "            fname = \"%s_%s.f\" % (participant, problem.replace(\"_\", \"-\"))\n",
    "            path_to_file = os.path.join(folder,participant, fname)\n",
    "\n",
    "        if not os.path.isfile(path_to_file):\n",
    "            print(path_to_file)\n",
    "            break\n",
    "         \n",
    "        # load the values in the objective space - first column is time, second profit\n",
    "        _F = np.loadtxt(path_to_file)\n",
    "        \n",
    "        # modify it to a min-min problem by multiplying the profit by -1\n",
    "        _entry[participant] = _F * [1, -1]\n",
    "        \n",
    "    data[problem] = _entry\n",
    "\n",
    "\n"
   ]
  },
  {
   "cell_type": "markdown",
   "metadata": {},
   "source": [
    "## Plot the results\n",
    "\n",
    "To get an idea how the submissions look like, we are plotting the results first.\n",
    "Note that the plots are not normalized yet and the ranges of both object vary."
   ]
  },
  {
   "cell_type": "code",
   "execution_count": null,
   "metadata": {
    "scrolled": false
   },
   "outputs": [
    {
     "name": "stdout",
     "output_type": "stream",
     "text": [
      "Plot the results. If points are not shown there are not in the non-dominated region.\n"
     ]
    },
    {
     "name": "stderr",
     "output_type": "stream",
     "text": [
      "/var/folders/mf/x389nv9s74n7bkxsm4l853k40000gn/T/ipykernel_73192/2585453793.py:4: MatplotlibDeprecationWarning: The get_cmap function was deprecated in Matplotlib 3.7 and will be removed two minor releases later. Use ``matplotlib.colormaps[name]`` or ``matplotlib.colormaps.get_cmap(obj)`` instead.\n",
      "  cmap = cm.get_cmap('tab20')\n"
     ]
    }
   ],
   "source": [
    "print(\"Plot the results. If points are not shown there are not in the non-dominated region.\")\n",
    "\n",
    "import matplotlib.cm as cm\n",
    "cmap = cm.get_cmap('tab20')\n",
    "\n",
    "only_top_3 = False\n",
    "\n",
    "for problem in problems:\n",
    "    for k, participant in enumerate(participants):\n",
    "        \n",
    "        if not only_top_3 or (only_top_3 and participant in [\"HPI\", \"jomar\", \"TeamU\"]):\n",
    "            if participant in data[problem]:\n",
    "                _F = data[problem][participant]\n",
    "                plt.scatter(_F[:,0], _F[:,1], label=participant, s=10, facecolors='none', edgecolors=cmap(k))\n",
    "\n",
    "    if not data[problem]:\n",
    "        continue\n",
    "    #_all = np.row_stack([data[problem][participant] for participant in participants if participant in data[problem]])\n",
    "    #I = fast_non_dominated_sort(_all)[0]\n",
    "    #_non_dom = _all[I]\n",
    "    \n",
    "    #_min = _non_dom.min(axis=0)\n",
    "    #_max = _non_dom.max(axis=0)\n",
    "    #_range = _max - _min\n",
    "        \n",
    "    print(\"=\" * 60)\n",
    "    print(problem)\n",
    "    print(\"=\" * 60)\n",
    "    plt.xlabel(\"time\")\n",
    "    plt.ylabel(\"negative profit\")\n",
    "    #plt.xlim(_min[0] - 0.05 * _range[0], _max[0] + 0.05 * _range[0])\n",
    "    #plt.ylim(_min[1] - 0.05 * _range[1], _max[1] + 0.05 * _range[1])\n",
    "    plt.legend()\n",
    "    plt.show()\n",
    "        "
   ]
  },
  {
   "cell_type": "markdown",
   "metadata": {},
   "source": [
    "## Find the reference non-dominated set for each test instance\n",
    "\n",
    "For each problem we merge the submissions to a new population and filter out the non-dominated solutions. Then, we take the minimum and the maximum of this set as the ideal and nadir point the normalize the results."
   ]
  },
  {
   "cell_type": "code",
   "execution_count": null,
   "metadata": {},
   "outputs": [],
   "source": [
    "\n",
    "ideal_point = {}\n",
    "nadir_point = {}\n",
    "ndf = {}\n",
    "\n",
    "for problem in problems:\n",
    "    \n",
    "    # the merged non-dominated solutions for the specific problem\n",
    "    M = []\n",
    "    if not data[problem]:\n",
    "        continue\n",
    "    for participant in participants:    \n",
    "        if participant in data[problem]:\n",
    "            _F = data[problem][participant]\n",
    "            M.append(_F)\n",
    "        \n",
    "    M = np.vstack(M)    \n",
    "    I = fast_non_dominated_sort(M)[0]\n",
    "    M = M[I, :]\n",
    "    \n",
    "    ideal_point[problem] = np.min(M, axis=0)\n",
    "    nadir_point[problem] = np.max(M, axis=0)\n",
    "    ndf[problem] = M\n",
    "    \n",
    "    "
   ]
  },
  {
   "cell_type": "markdown",
   "metadata": {},
   "source": [
    "In the following for each problem the non-dominated set of solutions is first normalized using the boundaries and hypervolume is calculated."
   ]
  },
  {
   "cell_type": "code",
   "execution_count": null,
   "metadata": {},
   "outputs": [],
   "source": [
    "results = []\n",
    "\n",
    "for problem in problems:\n",
    "    if not data[problem]:\n",
    "        continue\n",
    "    \n",
    "    z = ideal_point[problem]\n",
    "    z_nad = nadir_point[problem]\n",
    "    _N = np.array(normalize(data[problem]['TeamU'], z, z_nad))\n",
    "    max_obj1 = _N[:, 0].max()\n",
    "    max_obj2 = _N[:, 1].max()\n",
    " \n",
    "    for participant in participants:    \n",
    "        if participant in data[problem]:\n",
    "            _F = data[problem][participant]\n",
    "            _N = normalize(_F, z, z_nad)\n",
    "            if problem == 'a280_n2790' and participant == 'TeamU':\n",
    "                print(_N)\n",
    "            _hv = Hypervolume(np.array([max_obj1, max_obj2])).calc(_N)\n",
    "            results.append({'problem' : problem, 'participant' : participant, 'hv' : _hv})\n",
    "        \n",
    "df = pd.DataFrame(results, columns=[\"problem\", \"participant\", \"hv\"])\n"
   ]
  },
  {
   "cell_type": "code",
   "execution_count": null,
   "metadata": {},
   "outputs": [
    {
     "name": "stdout",
     "output_type": "stream",
     "text": [
      "============================================================\n",
      "a280_n279\n",
      "============================================================\n",
      "Empty DataFrame\n",
      "Columns: [problem, participant, hv]\n",
      "Index: []\n",
      "============================================================\n",
      "a280_n1395\n",
      "============================================================\n",
      "Empty DataFrame\n",
      "Columns: [problem, participant, hv]\n",
      "Index: []\n",
      "============================================================\n",
      "a280_n2790\n",
      "============================================================\n",
      "Empty DataFrame\n",
      "Columns: [problem, participant, hv]\n",
      "Index: []\n",
      "============================================================\n",
      "fnl4461_n4460\n",
      "============================================================\n",
      "Empty DataFrame\n",
      "Columns: [problem, participant, hv]\n",
      "Index: []\n",
      "============================================================\n",
      "fnl4461_n22300\n",
      "============================================================\n",
      "Empty DataFrame\n",
      "Columns: [problem, participant, hv]\n",
      "Index: []\n",
      "============================================================\n",
      "fnl4461_n44600\n",
      "============================================================\n",
      "Empty DataFrame\n",
      "Columns: [problem, participant, hv]\n",
      "Index: []\n",
      "============================================================\n",
      "pla33810_n33809\n",
      "============================================================\n",
      "Empty DataFrame\n",
      "Columns: [problem, participant, hv]\n",
      "Index: []\n",
      "============================================================\n",
      "pla33810_n169045\n",
      "============================================================\n",
      "Empty DataFrame\n",
      "Columns: [problem, participant, hv]\n",
      "Index: []\n",
      "============================================================\n",
      "pla33810_n338090\n",
      "============================================================\n",
      "Empty DataFrame\n",
      "Columns: [problem, participant, hv]\n",
      "Index: []\n"
     ]
    }
   ],
   "source": [
    "for problem in problems:\n",
    "\n",
    "    print(\"=\" * 60)\n",
    "    print(problem)\n",
    "    print(\"=\" * 60)\n",
    "    \n",
    "    _df = df[df[\"problem\"] == problem].copy()\n",
    "    _df.sort_values(\"hv\", ascending=False, inplace=True)\n",
    "    _df.reset_index(drop=True, inplace=True)\n",
    "    print(_df)"
   ]
  },
  {
   "cell_type": "code",
   "execution_count": 5,
   "metadata": {},
   "outputs": [
    {
     "ename": "NameError",
     "evalue": "name 'df' is not defined",
     "output_type": "error",
     "traceback": [
      "\u001b[0;31m---------------------------------------------------------------------------\u001b[0m",
      "\u001b[0;31mNameError\u001b[0m                                 Traceback (most recent call last)",
      "\u001b[1;32m/Users/dathd6/Developments/NIC/GECCO2019---Bi-objective-Traveling-Thief-Competition/evaluation/evaluation.ipynb Cell 17\u001b[0m line \u001b[0;36m1\n\u001b[0;32m----> <a href='vscode-notebook-cell:/Users/dathd6/Developments/NIC/GECCO2019---Bi-objective-Traveling-Thief-Competition/evaluation/evaluation.ipynb#X41sZmlsZQ%3D%3D?line=0'>1</a>\u001b[0m df\n",
      "\u001b[0;31mNameError\u001b[0m: name 'df' is not defined"
     ]
    }
   ],
   "source": [
    "df[df['problem'] == 'a280_n2790']"
   ]
  },
  {
   "cell_type": "markdown",
   "metadata": {},
   "source": [
    "The data frame contains all results. Now, we need to rank the submission for each test instance:"
   ]
  },
  {
   "cell_type": "code",
   "execution_count": null,
   "metadata": {},
   "outputs": [],
   "source": [
    "# the final ranking. And add zero points initially (sum is later taken anyway...)\n",
    "ranking = []\n",
    "for participant in participants:\n",
    "    ranking.append({'participant': participant, 'points' : 0})\n",
    "\n",
    "\n",
    "# one more time loop through problem wise\n",
    "for problem in problems:\n",
    "    \n",
    "    try:\n",
    "        _df = df[df[\"problem\"] == problem].copy()\n",
    "        \n",
    "        # sort descending by hv\n",
    "        _df.sort_values(\"hv\", ascending=False, inplace=True)\n",
    "        \n",
    "        # 3 points for the 1st place\n",
    "        first = _df.iloc[0][\"participant\"]\n",
    "        ranking.append({'participant': first, 'points' : 3})\n",
    "        \n",
    "        # 2 points for the 2nd place\n",
    "        second = _df.iloc[1][\"participant\"]\n",
    "        ranking.append({'participant': second, 'points' : 2})\n",
    "        \n",
    "        # 1 point for the 3rd place\n",
    "        third = _df.iloc[2][\"participant\"]\n",
    "        ranking.append({'participant': third, 'points' : 1})\n",
    "    except:\n",
    "        pass\n",
    "\n",
    "    \n",
    "ranking = pd.DataFrame(ranking, columns=[\"participant\", \"points\"])"
   ]
  },
  {
   "cell_type": "markdown",
   "metadata": {},
   "source": [
    "# Leaderboard\n",
    "\n",
    "Finally, we sum up the hypervolume for each problem and evaluate the winner!"
   ]
  },
  {
   "cell_type": "code",
   "execution_count": null,
   "metadata": {},
   "outputs": [
    {
     "data": {
      "text/html": [
       "<div>\n",
       "<style scoped>\n",
       "    .dataframe tbody tr th:only-of-type {\n",
       "        vertical-align: middle;\n",
       "    }\n",
       "\n",
       "    .dataframe tbody tr th {\n",
       "        vertical-align: top;\n",
       "    }\n",
       "\n",
       "    .dataframe thead th {\n",
       "        text-align: right;\n",
       "    }\n",
       "</style>\n",
       "<table border=\"1\" class=\"dataframe\">\n",
       "  <thead>\n",
       "    <tr style=\"text-align: right;\">\n",
       "      <th></th>\n",
       "      <th>points</th>\n",
       "    </tr>\n",
       "    <tr>\n",
       "      <th>participant</th>\n",
       "      <th></th>\n",
       "    </tr>\n",
       "  </thead>\n",
       "  <tbody>\n",
       "    <tr>\n",
       "      <th>TeamU</th>\n",
       "      <td>6</td>\n",
       "    </tr>\n",
       "    <tr>\n",
       "      <th>HPI</th>\n",
       "      <td>5</td>\n",
       "    </tr>\n",
       "    <tr>\n",
       "      <th>jomar</th>\n",
       "      <td>5</td>\n",
       "    </tr>\n",
       "    <tr>\n",
       "      <th>ALLAOUI</th>\n",
       "      <td>1</td>\n",
       "    </tr>\n",
       "    <tr>\n",
       "      <th>shisunzhang</th>\n",
       "      <td>1</td>\n",
       "    </tr>\n",
       "    <tr>\n",
       "      <th>FRA</th>\n",
       "      <td>0</td>\n",
       "    </tr>\n",
       "    <tr>\n",
       "      <th>JG</th>\n",
       "      <td>0</td>\n",
       "    </tr>\n",
       "    <tr>\n",
       "      <th>NTGA</th>\n",
       "      <td>0</td>\n",
       "    </tr>\n",
       "    <tr>\n",
       "      <th>SSteam</th>\n",
       "      <td>0</td>\n",
       "    </tr>\n",
       "    <tr>\n",
       "      <th>SamirO-ETF-ba</th>\n",
       "      <td>0</td>\n",
       "    </tr>\n",
       "    <tr>\n",
       "      <th>Worst</th>\n",
       "      <td>0</td>\n",
       "    </tr>\n",
       "    <tr>\n",
       "      <th>faria</th>\n",
       "      <td>0</td>\n",
       "    </tr>\n",
       "    <tr>\n",
       "      <th>sinc</th>\n",
       "      <td>0</td>\n",
       "    </tr>\n",
       "  </tbody>\n",
       "</table>\n",
       "</div>"
      ],
      "text/plain": [
       "               points\n",
       "participant          \n",
       "TeamU               6\n",
       "HPI                 5\n",
       "jomar               5\n",
       "ALLAOUI             1\n",
       "shisunzhang         1\n",
       "FRA                 0\n",
       "JG                  0\n",
       "NTGA                0\n",
       "SSteam              0\n",
       "SamirO-ETF-ba       0\n",
       "Worst               0\n",
       "faria               0\n",
       "sinc                0"
      ]
     },
     "execution_count": 11,
     "metadata": {},
     "output_type": "execute_result"
    }
   ],
   "source": [
    "ranking.groupby('participant').sum().sort_values(\"points\", ascending=False)"
   ]
  },
  {
   "cell_type": "markdown",
   "metadata": {},
   "source": [
    "\n",
    "\n",
    "\n",
    "\n",
    "\n",
    "\n"
   ]
  },
  {
   "cell_type": "markdown",
   "metadata": {},
   "source": [
    "## Leaderboard as HTML"
   ]
  },
  {
   "cell_type": "code",
   "execution_count": null,
   "metadata": {
    "scrolled": true
   },
   "outputs": [
    {
     "name": "stdout",
     "output_type": "stream",
     "text": [
      "<script src='https://code.jquery.com/jquery-3.2.1.slim.min.js' integrity='sha384-KJ3o2DKtIkvYIK3UENzmM7KCkRr/rE9/Qpg6aAZGJwFDMVNA/GpGFF93hXpG5KkN' crossorigin='anonymous'></script>\n",
      "<script src='https://cdnjs.cloudflare.com/ajax/libs/popper.js/1.12.9/umd/popper.min.js' integrity='sha384-ApNbgh9B+Y1QKtv3Rn7W3mgPxhU9K/ScQsAP7hUibX39j7fakFPskvXusvfa0b4Q' crossorigin='anonymous'></script>\n",
      "<script src='https://maxcdn.bootstrapcdn.com/bootstrap/4.0.0/js/bootstrap.min.js' integrity='sha384-JZR6Spejh4U02d8jOt6vLEHfe/JQGiRRSQQxSfFWpi1MquVdAyjUar5+76PVCmYl' crossorigin='anonymous'></script>\n",
      "<div class='row'><div class='w-50'>\n",
      "<table class='table'>\n",
      "<tr><th>Problem</th><th>Team</th><th>Hypervolume</th><th>Estimated Ideal Point</th><th>Estimated Nadir Point</th></tr>\n",
      "<tr><th rowspan='13'>a280_n279</th> <th>HPI</th> <th>0.8984</th> <th rowspan='13'>(2613, -42036)</th> <th rowspan='13'>(5444, 0)</th>  </tr>\n",
      "<tr><th>jomar</th><th>0.8956</th></tr>\n",
      "<tr><th>shisunzhang</th><th>0.8866</th></tr>\n",
      "<tr><th>NTGA</th><th>0.8837</th></tr>\n",
      "<tr><th>ALLAOUI</th><th>0.8735</th></tr>\n",
      "<tr><th>SSteam</th><th>0.8706</th></tr>\n",
      "<tr><th>faria</th><th>0.6026</th></tr>\n",
      "<tr><th>SamirO-ETF-ba</th><th>0.5385</th></tr>\n",
      "<tr><th>sinc</th><th>0.3775</th></tr>\n",
      "<tr><th>FRA</th><th>0.2256</th></tr>\n",
      "<tr><th>JG</th><th>0.1663</th></tr>\n",
      "<tr><th>TeamU</th><th>0.0</th></tr>\n",
      "<tr><th>Worst</th><th>0.0</th></tr>\n",
      "\n",
      "\n",
      "<tr><th rowspan='13'>a280_n2790</th> <th>jomar</th> <th>0.8879</th> <th rowspan='13'>(2613, -1375443)</th> <th rowspan='13'>(6646, 0)</th>  </tr>\n",
      "<tr><th>HPI</th><th>0.8876</th></tr>\n",
      "<tr><th>ALLAOUI</th><th>0.8851</th></tr>\n",
      "<tr><th>NTGA</th><th>0.8826</th></tr>\n",
      "<tr><th>shisunzhang</th><th>0.8744</th></tr>\n",
      "<tr><th>SSteam</th><th>0.8651</th></tr>\n",
      "<tr><th>SamirO-ETF-ba</th><th>0.6046</th></tr>\n",
      "<tr><th>sinc</th><th>0.4199</th></tr>\n",
      "<tr><th>faria</th><th>0.4055</th></tr>\n",
      "<tr><th>FRA</th><th>0.2202</th></tr>\n",
      "<tr><th>JG</th><th>0.0302</th></tr>\n",
      "<tr><th>TeamU</th><th>0.0</th></tr>\n",
      "<tr><th>Worst</th><th>0.0</th></tr>\n",
      "\n",
      "<tr><th rowspan='1'>fnl4461_n4460</th> <th>TeamU</th> <th>0.59</th> <th rowspan='1'>(8033015, -271164)</th> <th rowspan='1'>(10915786, -6474)</th>  </tr>\n",
      "\n",
      "\n",
      "<tr><th rowspan='1'>fnl4461_n44600</th> <th>TeamU</th> <th>0.6097</th> <th rowspan='1'>(11015181, -11445677)</th> <th rowspan='1'>(11263237, -11181714)</th>  </tr>\n",
      "\n",
      "\n",
      "\n",
      "\n",
      "<table>\n",
      "</div></div>\n"
     ]
    }
   ],
   "source": [
    "\n",
    "\n",
    "standalone = True\n",
    "if standalone:\n",
    "    print(\"<script src='https://code.jquery.com/jquery-3.2.1.slim.min.js' integrity='sha384-KJ3o2DKtIkvYIK3UENzmM7KCkRr/rE9/Qpg6aAZGJwFDMVNA/GpGFF93hXpG5KkN' crossorigin='anonymous'></script>\")\n",
    "    print(\"<script src='https://cdnjs.cloudflare.com/ajax/libs/popper.js/1.12.9/umd/popper.min.js' integrity='sha384-ApNbgh9B+Y1QKtv3Rn7W3mgPxhU9K/ScQsAP7hUibX39j7fakFPskvXusvfa0b4Q' crossorigin='anonymous'></script>\")\n",
    "    print(\"<script src='https://maxcdn.bootstrapcdn.com/bootstrap/4.0.0/js/bootstrap.min.js' integrity='sha384-JZR6Spejh4U02d8jOt6vLEHfe/JQGiRRSQQxSfFWpi1MquVdAyjUar5+76PVCmYl' crossorigin='anonymous'></script>\")\n",
    "\n",
    "print(\"<div class='row'><div class='w-50'>\")\n",
    "print(\"<table class='table'>\")\n",
    "print(\"<tr><th>Problem</th><th>Team</th><th>Hypervolume</th><th>Estimated Ideal Point</th><th>Estimated Nadir Point</th></tr>\")\n",
    "\n",
    "for problem in problems:\n",
    "    \n",
    "    _df = df[df[\"problem\"] == problem].copy()\n",
    "    _df.sort_values(\"hv\", ascending=False, inplace=True)\n",
    "    _df.reset_index(drop=True)\n",
    "    \n",
    "    first = True\n",
    "    for i, e in _df.iterrows():\n",
    "        \n",
    "        problem, team, hv = e.values\n",
    "        \n",
    "        if first:\n",
    "            \n",
    "            s_row_span = \"<th rowspan='%s'>%s</th>\"\n",
    "            \n",
    "            s_problem = s_row_span % (len(_df), problem)\n",
    "            s_ideal = s_row_span % (len(_df), \"(%s, %s)\" % (round(ideal_point[problem][0]), round(ideal_point[problem][1])))\n",
    "            s_nadir = s_row_span % (len(_df), \"(%s, %s)\" % (round(nadir_point[problem][0]), round(nadir_point[problem][1])))\n",
    "            \n",
    "            print(\"<tr>%s <th>%s</th> <th>%s</th> %s %s  </tr>\" \n",
    "                  % (s_problem, team, round(hv,4), s_ideal, s_nadir))\n",
    "        else:\n",
    "            print(\"<tr><th>%s</th><th>%s</th></tr>\" % (team, round(hv,4)))\n",
    "        \n",
    "            \n",
    "        first = False\n",
    "        \n",
    "    print()\n",
    "    \n",
    "    \n",
    "print(\"<table>\")\n",
    "print(\"</div></div>\")"
   ]
  },
  {
   "cell_type": "code",
   "execution_count": null,
   "metadata": {},
   "outputs": [
    {
     "name": "stdout",
     "output_type": "stream",
     "text": [
      "<script src='https://code.jquery.com/jquery-3.2.1.slim.min.js' integrity='sha384-KJ3o2DKtIkvYIK3UENzmM7KCkRr/rE9/Qpg6aAZGJwFDMVNA/GpGFF93hXpG5KkN' crossorigin='anonymous'></script>\n",
      "<script src='https://cdnjs.cloudflare.com/ajax/libs/popper.js/1.12.9/umd/popper.min.js' integrity='sha384-ApNbgh9B+Y1QKtv3Rn7W3mgPxhU9K/ScQsAP7hUibX39j7fakFPskvXusvfa0b4Q' crossorigin='anonymous'></script>\n",
      "<script src='https://maxcdn.bootstrapcdn.com/bootstrap/4.0.0/js/bootstrap.min.js' integrity='sha384-JZR6Spejh4U02d8jOt6vLEHfe/JQGiRRSQQxSfFWpi1MquVdAyjUar5+76PVCmYl' crossorigin='anonymous'></script>\n",
      "<div class='row'><div class='w-50'>\n",
      "<table class='table'>\n",
      "<tr><th>Rank</th><th>Team</th><th>Points</th></tr>\n",
      "<tr><th>1</th><th>TeamU</th><th>6</th></tr>\n",
      "<tr><th>2</th><th>HPI</th><th>5</th></tr>\n",
      "<tr><th>3</th><th>jomar</th><th>5</th></tr>\n",
      "<tr><th>4</th><th>ALLAOUI</th><th>1</th></tr>\n",
      "<tr><th>5</th><th>shisunzhang</th><th>1</th></tr>\n",
      "<tr><th>6</th><th>FRA</th><th>0</th></tr>\n",
      "<tr><th>7</th><th>JG</th><th>0</th></tr>\n",
      "<tr><th>8</th><th>NTGA</th><th>0</th></tr>\n",
      "<tr><th>9</th><th>SSteam</th><th>0</th></tr>\n",
      "<tr><th>10</th><th>SamirO-ETF-ba</th><th>0</th></tr>\n",
      "<tr><th>11</th><th>Worst</th><th>0</th></tr>\n",
      "<tr><th>12</th><th>faria</th><th>0</th></tr>\n",
      "<tr><th>13</th><th>sinc</th><th>0</th></tr>\n",
      "<table>\n",
      "</div></div>\n"
     ]
    },
    {
     "name": "stderr",
     "output_type": "stream",
     "text": [
      "/var/folders/mf/x389nv9s74n7bkxsm4l853k40000gn/T/ipykernel_73192/3062425893.py:17: FutureWarning: Series.__getitem__ treating keys as positions is deprecated. In a future version, integer keys will always be treated as labels (consistent with DataFrame behavior). To access a value by position, use `ser.iloc[pos]`\n",
      "  print(\"<tr><th>%s</th><th>%s</th><th>%s</th></tr>\" % (counter+1, i, e[0]))\n"
     ]
    }
   ],
   "source": [
    "_ranking = ranking.groupby('participant').sum().sort_values(\"points\", ascending=False)\n",
    "\n",
    "standalone = True\n",
    "if standalone:\n",
    "    print(\"<script src='https://code.jquery.com/jquery-3.2.1.slim.min.js' integrity='sha384-KJ3o2DKtIkvYIK3UENzmM7KCkRr/rE9/Qpg6aAZGJwFDMVNA/GpGFF93hXpG5KkN' crossorigin='anonymous'></script>\")\n",
    "    print(\"<script src='https://cdnjs.cloudflare.com/ajax/libs/popper.js/1.12.9/umd/popper.min.js' integrity='sha384-ApNbgh9B+Y1QKtv3Rn7W3mgPxhU9K/ScQsAP7hUibX39j7fakFPskvXusvfa0b4Q' crossorigin='anonymous'></script>\")\n",
    "    print(\"<script src='https://maxcdn.bootstrapcdn.com/bootstrap/4.0.0/js/bootstrap.min.js' integrity='sha384-JZR6Spejh4U02d8jOt6vLEHfe/JQGiRRSQQxSfFWpi1MquVdAyjUar5+76PVCmYl' crossorigin='anonymous'></script>\")\n",
    "\n",
    "\n",
    "print(\"<div class='row'><div class='w-50'>\")\n",
    "print(\"<table class='table'>\")\n",
    "print(\"<tr><th>Rank</th><th>Team</th><th>Points</th></tr>\")\n",
    "\n",
    "\n",
    "counter = 0\n",
    "for i, e in _ranking.iterrows():\n",
    "    print(\"<tr><th>%s</th><th>%s</th><th>%s</th></tr>\" % (counter+1, i, e[0]))\n",
    "    counter += 1\n",
    "\n",
    "    \n",
    "print(\"<table>\")\n",
    "print(\"</div></div>\")\n"
   ]
  },
  {
   "cell_type": "code",
   "execution_count": null,
   "metadata": {},
   "outputs": [],
   "source": []
  },
  {
   "cell_type": "code",
   "execution_count": null,
   "metadata": {},
   "outputs": [],
   "source": []
  },
  {
   "cell_type": "code",
   "execution_count": null,
   "metadata": {},
   "outputs": [],
   "source": []
  }
 ],
 "metadata": {
  "kernelspec": {
   "display_name": "Python 3",
   "language": "python",
   "name": "python3"
  },
  "language_info": {
   "codemirror_mode": {
    "name": "ipython",
    "version": 3
   },
   "file_extension": ".py",
   "mimetype": "text/x-python",
   "name": "python",
   "nbconvert_exporter": "python",
   "pygments_lexer": "ipython3",
   "version": "3.11.5"
  }
 },
 "nbformat": 4,
 "nbformat_minor": 2
}
